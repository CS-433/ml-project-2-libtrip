{
 "cells": [
  {
   "cell_type": "markdown",
   "metadata": {},
   "source": [
    "# CS-433 Project "
   ]
  },
  {
   "cell_type": "markdown",
   "metadata": {},
   "source": [
    "## 1. Load the Data Set"
   ]
  },
  {
   "cell_type": "code",
   "execution_count": 1,
   "metadata": {},
   "outputs": [
    {
     "name": "stdout",
     "output_type": "stream",
     "text": [
      "Intel MKL WARNING: Support of Intel(R) Streaming SIMD Extensions 4.2 (Intel(R) SSE4.2) enabled only processors has been deprecated. Intel oneAPI Math Kernel Library 2025.0 will require Intel(R) Advanced Vector Extensions (Intel(R) AVX) instructions.\n",
      "Intel MKL WARNING: Support of Intel(R) Streaming SIMD Extensions 4.2 (Intel(R) SSE4.2) enabled only processors has been deprecated. Intel oneAPI Math Kernel Library 2025.0 will require Intel(R) Advanced Vector Extensions (Intel(R) AVX) instructions.\n"
     ]
    }
   ],
   "source": [
    "# import tensorflow as tf \n",
    "from helper import *\n",
    "# from tensorflow.keras.models import Model\n",
    "# from tensorflow.keras.layers import *\n",
    "# import tensorflow_addons as tfa"
   ]
  },
  {
   "cell_type": "code",
   "execution_count": 2,
   "metadata": {},
   "outputs": [],
   "source": [
    "NUM_CHANNELS = 3  # RGB images\n",
    "PIXEL_DEPTH = 255\n",
    "NUM_LABELS = 2\n",
    "TRAINING_SIZE = 20\n",
    "VALIDATION_SIZE = 5  # Size of the validation set.\n",
    "SEED = 66478  # Set to None for random seed.\n",
    "BATCH_SIZE = 16  # 64\n",
    "NUM_EPOCHS = 100\n",
    "RESTORE_MODEL = False  # If True, restore existing model instead of training a new one\n",
    "RECORDING_STEP = 0"
   ]
  },
  {
   "cell_type": "code",
   "execution_count": 9,
   "metadata": {},
   "outputs": [
    {
     "name": "stdout",
     "output_type": "stream",
     "text": [
      "Loading /Users/bina/Documents/MA1/ml-project-2-libtrip/data/training/groundtruth/satImage_001.png\n",
      "Loading /Users/bina/Documents/MA1/ml-project-2-libtrip/data/training/groundtruth/satImage_002.png\n",
      "Loading /Users/bina/Documents/MA1/ml-project-2-libtrip/data/training/groundtruth/satImage_003.png\n",
      "Loading /Users/bina/Documents/MA1/ml-project-2-libtrip/data/training/groundtruth/satImage_004.png\n",
      "Loading /Users/bina/Documents/MA1/ml-project-2-libtrip/data/training/groundtruth/satImage_005.png\n",
      "Loading /Users/bina/Documents/MA1/ml-project-2-libtrip/data/training/groundtruth/satImage_006.png\n",
      "Loading /Users/bina/Documents/MA1/ml-project-2-libtrip/data/training/groundtruth/satImage_007.png\n",
      "Loading /Users/bina/Documents/MA1/ml-project-2-libtrip/data/training/groundtruth/satImage_008.png\n",
      "Loading /Users/bina/Documents/MA1/ml-project-2-libtrip/data/training/groundtruth/satImage_009.png\n",
      "Loading /Users/bina/Documents/MA1/ml-project-2-libtrip/data/training/groundtruth/satImage_010.png\n",
      "Loading /Users/bina/Documents/MA1/ml-project-2-libtrip/data/training/groundtruth/satImage_011.png\n",
      "Loading /Users/bina/Documents/MA1/ml-project-2-libtrip/data/training/groundtruth/satImage_012.png\n",
      "Loading /Users/bina/Documents/MA1/ml-project-2-libtrip/data/training/groundtruth/satImage_013.png\n",
      "Loading /Users/bina/Documents/MA1/ml-project-2-libtrip/data/training/groundtruth/satImage_014.png\n",
      "Loading /Users/bina/Documents/MA1/ml-project-2-libtrip/data/training/groundtruth/satImage_015.png\n",
      "Loading /Users/bina/Documents/MA1/ml-project-2-libtrip/data/training/groundtruth/satImage_016.png\n",
      "Loading /Users/bina/Documents/MA1/ml-project-2-libtrip/data/training/groundtruth/satImage_017.png\n",
      "Loading /Users/bina/Documents/MA1/ml-project-2-libtrip/data/training/groundtruth/satImage_018.png\n",
      "Loading /Users/bina/Documents/MA1/ml-project-2-libtrip/data/training/groundtruth/satImage_019.png\n",
      "Loading /Users/bina/Documents/MA1/ml-project-2-libtrip/data/training/groundtruth/satImage_020.png\n"
     ]
    },
    {
     "ename": "TypeError",
     "evalue": "value_to_class() missing 1 required positional argument: 'foreground_threshold'",
     "output_type": "error",
     "traceback": [
      "\u001b[0;31m---------------------------------------------------------------------------\u001b[0m",
      "\u001b[0;31mTypeError\u001b[0m                                 Traceback (most recent call last)",
      "\u001b[1;32m/Users/bina/Documents/MA1/ml-project-2-libtrip/source/model.ipynb Cell 5\u001b[0m line \u001b[0;36m6\n\u001b[1;32m      <a href='vscode-notebook-cell:/Users/bina/Documents/MA1/ml-project-2-libtrip/source/model.ipynb#W3sZmlsZQ%3D%3D?line=2'>3</a>\u001b[0m train_labels_filename \u001b[39m=\u001b[39m data_dir \u001b[39m+\u001b[39m \u001b[39m\"\u001b[39m\u001b[39mgroundtruth/\u001b[39m\u001b[39m\"\u001b[39m\n\u001b[1;32m      <a href='vscode-notebook-cell:/Users/bina/Documents/MA1/ml-project-2-libtrip/source/model.ipynb#W3sZmlsZQ%3D%3D?line=4'>5</a>\u001b[0m \u001b[39m# train_data = extract_data(train_data_filename, TRAINING_SIZE)\u001b[39;00m\n\u001b[0;32m----> <a href='vscode-notebook-cell:/Users/bina/Documents/MA1/ml-project-2-libtrip/source/model.ipynb#W3sZmlsZQ%3D%3D?line=5'>6</a>\u001b[0m train_labels \u001b[39m=\u001b[39m extract_labels(train_labels_filename, TRAINING_SIZE)\n",
      "File \u001b[0;32m~/Documents/MA1/ml-project-2-libtrip/source/helper.py:141\u001b[0m, in \u001b[0;36mextract_labels\u001b[0;34m(filename, num_images)\u001b[0m\n\u001b[1;32m    131\u001b[0m gt_patches \u001b[39m=\u001b[39m [\n\u001b[1;32m    132\u001b[0m     img_crop(gt_imgs[i], IMG_PATCH_SIZE, IMG_PATCH_SIZE) \u001b[39mfor\u001b[39;00m i \u001b[39min\u001b[39;00m \u001b[39mrange\u001b[39m(num_images)\n\u001b[1;32m    133\u001b[0m ]\n\u001b[1;32m    134\u001b[0m data \u001b[39m=\u001b[39m np\u001b[39m.\u001b[39masarray(\n\u001b[1;32m    135\u001b[0m     [\n\u001b[1;32m    136\u001b[0m         gt_patches[i][j]\n\u001b[0;32m   (...)\u001b[0m\n\u001b[1;32m    139\u001b[0m     ]\n\u001b[1;32m    140\u001b[0m )\n\u001b[0;32m--> 141\u001b[0m labels \u001b[39m=\u001b[39m np\u001b[39m.\u001b[39masarray([value_to_class(np\u001b[39m.\u001b[39mmean(data[i])) \u001b[39mfor\u001b[39;00m i \u001b[39min\u001b[39;00m \u001b[39mrange\u001b[39m(\u001b[39mlen\u001b[39m(data))])\n\u001b[1;32m    143\u001b[0m \u001b[39m# Convert to dense 1-hot representation.\u001b[39;00m\n\u001b[1;32m    144\u001b[0m \u001b[39mreturn\u001b[39;00m labels\u001b[39m.\u001b[39mastype(np\u001b[39m.\u001b[39mfloat32)\n",
      "File \u001b[0;32m~/Documents/MA1/ml-project-2-libtrip/source/helper.py:141\u001b[0m, in \u001b[0;36m<listcomp>\u001b[0;34m(.0)\u001b[0m\n\u001b[1;32m    131\u001b[0m gt_patches \u001b[39m=\u001b[39m [\n\u001b[1;32m    132\u001b[0m     img_crop(gt_imgs[i], IMG_PATCH_SIZE, IMG_PATCH_SIZE) \u001b[39mfor\u001b[39;00m i \u001b[39min\u001b[39;00m \u001b[39mrange\u001b[39m(num_images)\n\u001b[1;32m    133\u001b[0m ]\n\u001b[1;32m    134\u001b[0m data \u001b[39m=\u001b[39m np\u001b[39m.\u001b[39masarray(\n\u001b[1;32m    135\u001b[0m     [\n\u001b[1;32m    136\u001b[0m         gt_patches[i][j]\n\u001b[0;32m   (...)\u001b[0m\n\u001b[1;32m    139\u001b[0m     ]\n\u001b[1;32m    140\u001b[0m )\n\u001b[0;32m--> 141\u001b[0m labels \u001b[39m=\u001b[39m np\u001b[39m.\u001b[39masarray([value_to_class(np\u001b[39m.\u001b[39;49mmean(data[i])) \u001b[39mfor\u001b[39;00m i \u001b[39min\u001b[39;00m \u001b[39mrange\u001b[39m(\u001b[39mlen\u001b[39m(data))])\n\u001b[1;32m    143\u001b[0m \u001b[39m# Convert to dense 1-hot representation.\u001b[39;00m\n\u001b[1;32m    144\u001b[0m \u001b[39mreturn\u001b[39;00m labels\u001b[39m.\u001b[39mastype(np\u001b[39m.\u001b[39mfloat32)\n",
      "\u001b[0;31mTypeError\u001b[0m: value_to_class() missing 1 required positional argument: 'foreground_threshold'"
     ]
    }
   ],
   "source": [
    "data_dir = '/Users/bina/Documents/MA1/ml-project-2-libtrip/data/training/'\n",
    "train_data_filename = data_dir + \"images/\"\n",
    "train_labels_filename = data_dir + \"groundtruth/\"\n",
    "\n",
    "# train_data = extract_data(train_data_filename, TRAINING_SIZE)\n",
    "train_labels = extract_labels(train_labels_filename, TRAINING_SIZE)"
   ]
  }
 ],
 "metadata": {
  "kernelspec": {
   "display_name": "base",
   "language": "python",
   "name": "python3"
  },
  "language_info": {
   "codemirror_mode": {
    "name": "ipython",
    "version": 3
   },
   "file_extension": ".py",
   "mimetype": "text/x-python",
   "name": "python",
   "nbconvert_exporter": "python",
   "pygments_lexer": "ipython3",
   "version": "3.9.13"
  }
 },
 "nbformat": 4,
 "nbformat_minor": 2
}
