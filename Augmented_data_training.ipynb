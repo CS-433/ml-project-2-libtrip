{
  "cells": [
    {
      "cell_type": "markdown",
      "metadata": {},
      "source": [
        "#### The goal of this notebook is to check the performence of the model trained on augmented data, with and without post processing."
      ]
    },
    {
      "cell_type": "code",
      "execution_count": 1,
      "metadata": {
        "id": "yIZpoHenYgsr"
      },
      "outputs": [],
      "source": [
        "import torch\n",
        "from torch.optim import Adam\n",
        "from torch.optim.lr_scheduler import ReduceLROnPlateau\n",
        "from torch.utils.data import DataLoader\n",
        "from torchvision import transforms\n",
        "from torch.utils.data import Dataset, ConcatDataset\n",
        "from ImageDataset import *\n",
        "from unet import *\n",
        "from loss import *\n",
        "import os\n",
        "import zipfile\n",
        "from helper import *\n",
        "import matplotlib.pyplot as plt"
      ]
    },
    {
      "cell_type": "code",
      "execution_count": 2,
      "metadata": {
        "id": "wP958XM1Ygsu"
      },
      "outputs": [],
      "source": [
        "#Unzip data.\n",
        "#It is useful when we want to run the code on Google Colab.\n",
        "data_path = 'data.zip'\n",
        "\n",
        "with zipfile.ZipFile(data_path, 'r') as zip_ref:\n",
        "    zip_ref.extractall()\n"
      ]
    },
    {
      "cell_type": "code",
      "execution_count": 2,
      "metadata": {
        "id": "fhtnY0dFYgsv"
      },
      "outputs": [],
      "source": [
        "TRAIN_IMAGES = 'data/training/images/'\n",
        "GROUNDTRUTH = 'data/training/groundtruth/'\n",
        "TEST_IMAGES = 'data/test_set_images/'\n",
        "AUG_IMG_PATH= 'data/Augmented/Images'\n",
        "AUG_GT_PATH= 'data/Augmented/Groundtruth'\n",
        "PREDICTIONS_PATH= 'predictions/'\n",
        "FOREGROUND_TRESHOLD = 0.25\n",
        "SPLIT_RATIO = 0.2\n",
        "BATCH_SIZE = 10\n",
        "EPOCHS = 150\n",
        "LR = 1e-3\n",
        "SEED = 4\n",
        "WEIGHT_DECAY = 1e-3\n",
        "WORKERS = 2"
      ]
    },
    {
      "cell_type": "code",
      "execution_count": 3,
      "metadata": {
        "colab": {
          "base_uri": "https://localhost:8080/"
        },
        "id": "AyeljAr0Ygsv",
        "outputId": "7d73091c-b0dd-48d7-d2c3-3d8477eb8480"
      },
      "outputs": [
        {
          "name": "stdout",
          "output_type": "stream",
          "text": [
            "Device: cpu\n"
          ]
        }
      ],
      "source": [
        "# Define device\n",
        "device = torch.device('cuda' if torch.cuda.is_available() else 'cpu')\n",
        "print('Device:', device)\n",
        "pin_memory = device == 'cuda'"
      ]
    },
    {
      "cell_type": "code",
      "execution_count": 5,
      "metadata": {
        "id": "ZnzhBdH0Ygsw"
      },
      "outputs": [],
      "source": [
        "# Define image and mask transformations using torchvision.transforms.Compose.\n",
        "# For both image and mask, convert the input to a PyTorch tensor using transforms.ToTensor().\n",
        "image_transform = transforms.Compose([\n",
        "    transforms.ToTensor(),\n",
        "])\n",
        "mask_transform = transforms.Compose([\n",
        "    transforms.ToTensor(),\n",
        "])"
      ]
    },
    {
      "cell_type": "code",
      "execution_count": 6,
      "metadata": {
        "id": "LvNYMCa9Ygsw"
      },
      "outputs": [],
      "source": [
        "# Create an instance of the ImagesDataset class with specified parameters.\n",
        "dataset = ImagesDataset(\n",
        "    img_dir=TRAIN_IMAGES,\n",
        "    gt_dir=GROUNDTRUTH,\n",
        "    image_transform=image_transform,\n",
        "    mask_transform=mask_transform,\n",
        ")"
      ]
    },
    {
      "cell_type": "code",
      "execution_count": 7,
      "metadata": {
        "colab": {
          "base_uri": "https://localhost:8080/"
        },
        "id": "LuiAP3mLYgsw",
        "outputId": "3c29c320-1962-4dfa-d2c5-da1e4943878e"
      },
      "outputs": [
        {
          "data": {
            "text/plain": [
              "100"
            ]
          },
          "execution_count": 7,
          "metadata": {},
          "output_type": "execute_result"
        }
      ],
      "source": [
        "#Display the length of the dataset.\n",
        "len(dataset)"
      ]
    },
    {
      "cell_type": "code",
      "execution_count": 9,
      "metadata": {
        "colab": {
          "base_uri": "https://localhost:8080/"
        },
        "id": "uDId2OkRYgsx",
        "outputId": "92eabbdb-ad5c-4739-dfc5-6b32b48dab3c"
      },
      "outputs": [
        {
          "name": "stdout",
          "output_type": "stream",
          "text": [
            "Image size: torch.Size([3, 400, 400])\n",
            "Mask size: torch.Size([1, 400, 400])\n"
          ]
        }
      ],
      "source": [
        "image, mask = dataset[0]\n",
        "print('Image size:', image.shape)\n",
        "print('Mask size:', mask.shape)"
      ]
    },
    {
      "cell_type": "code",
      "execution_count": 8,
      "metadata": {
        "id": "5XhZ9qzDYgsx"
      },
      "outputs": [],
      "source": [
        "#Split the dataset into training and validation sets.\n",
        "train_dataset, test_datset= split_data(dataset, 0.2, SEED)"
      ]
    },
    {
      "cell_type": "code",
      "execution_count": null,
      "metadata": {
        "id": "kYKcmeM8Ygsy"
      },
      "outputs": [],
      "source": [
        "# Create DataLoader for the training set.\n",
        "train_loader = DataLoader(\n",
        "    dataset=train_dataset,\n",
        "    batch_size=BATCH_SIZE,\n",
        "    shuffle=True,\n",
        "    num_workers=WORKERS,\n",
        "    pin_memory=pin_memory,\n",
        ")\n"
      ]
    },
    {
      "cell_type": "code",
      "execution_count": null,
      "metadata": {
        "id": "mgljR2cKYgsz"
      },
      "outputs": [],
      "source": [
        "# Create DataLoader for the validation set.\n",
        "local_test_loader = DataLoader(\n",
        "    dataset=test_datset,\n",
        "    num_workers=WORKERS,\n",
        "    pin_memory=pin_memory,\n",
        ")\n"
      ]
    },
    {
      "cell_type": "code",
      "execution_count": null,
      "metadata": {
        "id": "3yetTfNO2nzY"
      },
      "outputs": [],
      "source": [
        "#This will create rotated images from training and groundtruth images and save them in the\n",
        "#AUG_IMG_PATH and AUG_GT_PATH folders.\n",
        "create_augmented_dataset(TRAIN_IMAGES,GROUNDTRUTH,AUG_IMG_PATH,AUG_GT_PATH)"
      ]
    },
    {
      "cell_type": "code",
      "execution_count": 18,
      "metadata": {
        "id": "HJz--OCE4Uow"
      },
      "outputs": [],
      "source": [
        "# Create additional dataset for augmented images.\n",
        "train_dataset2 = ImagesDataset(\n",
        "    img_dir=AUG_IMG_PATH,\n",
        "    gt_dir=AUG_GT_PATH,\n",
        "    image_transform=image_transform,\n",
        "    mask_transform=mask_transform,\n",
        ")"
      ]
    },
    {
      "cell_type": "code",
      "execution_count": 19,
      "metadata": {
        "colab": {
          "base_uri": "https://localhost:8080/"
        },
        "id": "-89yxy4q44Dm",
        "outputId": "34735b84-aaa3-4d82-d8e4-52d42f9aa829"
      },
      "outputs": [
        {
          "data": {
            "text/plain": [
              "30"
            ]
          },
          "execution_count": 19,
          "metadata": {},
          "output_type": "execute_result"
        }
      ],
      "source": [
        "#Display the length of newly created dataset (containing the rotated images).\n",
        "len(train_dataset2)"
      ]
    },
    {
      "cell_type": "code",
      "execution_count": 21,
      "metadata": {
        "id": "_On73ZAc469K"
      },
      "outputs": [],
      "source": [
        "#Concatenate the two datasets and created the augmented dataset.\n",
        "augmented_dataset= ConcatDataset([train_dataset, train_dataset2])"
      ]
    },
    {
      "cell_type": "code",
      "execution_count": 22,
      "metadata": {
        "colab": {
          "base_uri": "https://localhost:8080/"
        },
        "id": "3Mg16F3c5dIE",
        "outputId": "e35b1adb-30de-4a0e-8e7d-95a00f9aec36"
      },
      "outputs": [
        {
          "data": {
            "text/plain": [
              "110"
            ]
          },
          "execution_count": 22,
          "metadata": {},
          "output_type": "execute_result"
        }
      ],
      "source": [
        "#Display the length of the augmented dataset.\n",
        "len(augmented_dataset)"
      ]
    },
    {
      "cell_type": "code",
      "execution_count": 23,
      "metadata": {
        "id": "6_Tp7sxj5uBo"
      },
      "outputs": [],
      "source": [
        "#Create DataLoader for the augmented training set.\n",
        "train_loader_aug= DataLoader(augmented_dataset, batch_size=BATCH_SIZE, shuffle=True, num_workers=WORKERS, pin_memory=pin_memory)"
      ]
    },
    {
      "cell_type": "code",
      "execution_count": 33,
      "metadata": {
        "id": "fcjKzW05-ofM"
      },
      "outputs": [],
      "source": [
        "#Create DataLoader for the validation set (local validation).\n",
        "local_test_loader= DataLoader(test_datset,num_workers=WORKERS,pin_memory=pin_memory)"
      ]
    },
    {
      "cell_type": "code",
      "execution_count": 25,
      "metadata": {
        "id": "B0iBwYC76iYe"
      },
      "outputs": [],
      "source": [
        "#Instantiate the model.\n",
        "model= UNet().to(device)"
      ]
    },
    {
      "cell_type": "code",
      "execution_count": 28,
      "metadata": {
        "id": "gF7q8txJ6tRJ"
      },
      "outputs": [],
      "source": [
        "#Define the loss function and the optimizer.\n",
        "criterion = DiceLoss()\n",
        "optimizer = Adam(model.parameters(), lr=LR, weight_decay=WEIGHT_DECAY)"
      ]
    },
    {
      "cell_type": "code",
      "execution_count": 29,
      "metadata": {
        "id": "ty5Uco3M6gnl"
      },
      "outputs": [],
      "source": [
        "#Define the learning rate scheduler.\n",
        "lr_scheduler = ReduceLROnPlateau(\n",
        "    optimizer=optimizer,\n",
        "    mode='min',\n",
        "    patience=3,\n",
        "    verbose=True,\n",
        ")"
      ]
    },
    {
      "cell_type": "code",
      "execution_count": null,
      "metadata": {
        "colab": {
          "base_uri": "https://localhost:8080/"
        },
        "id": "ZmBIURpw6Lc_",
        "outputId": "0741dd3f-8e34-46d9-ed39-7810ae7f7b2e"
      },
      "outputs": [],
      "source": [
        "#Train the model.\n",
        "losses= train(model, train_loader_aug, criterion, optimizer, device, EPOCHS,lr_scheduler)"
      ]
    },
    {
      "cell_type": "code",
      "execution_count": 32,
      "metadata": {
        "colab": {
          "base_uri": "https://localhost:8080/",
          "height": 472
        },
        "id": "aE-NxOrn9uCD",
        "outputId": "8dc1f030-8200-4c3e-9275-ddbf78b15d1d"
      },
      "outputs": [
        {
          "data": {
            "image/png": "[encoded data removed]",
            "text/plain": [
              "<Figure size 640x480 with 1 Axes>"
            ]
          },
          "metadata": {},
          "output_type": "display_data"
        }
      ],
      "source": [
        "#Plot the loss curve for each epoch of the training.\n",
        "epochs = [item[0] for item in losses]\n",
        "losses_ = [item[1] for item in losses]\n",
        "\n",
        "# Plotting\n",
        "plt.plot(epochs, losses_, color='red', marker='o', linestyle='-')\n",
        "plt.title('Epoch vs Loss')\n",
        "plt.xlabel('Epoch')\n",
        "plt.ylabel('DiceLoss')\n",
        "plt.grid(True)\n",
        "plt.show()"
      ]
    },
    {
      "cell_type": "code",
      "execution_count": null,
      "metadata": {
        "colab": {
          "base_uri": "https://localhost:8080/"
        },
        "id": "o8Bv3cCG-K_D",
        "outputId": "95851120-88d0-45fe-fdfc-2eb23444c49f"
      },
      "outputs": [],
      "source": [
        "#Local validation.\n",
        "f1,acc,filenames= predict(model,local_test_loader,device,PREDICTIONS_PATH,FOREGROUND_TRESHOLD)"
      ]
    },
    {
      "cell_type": "code",
      "execution_count": 2,
      "metadata": {},
      "outputs": [
        {
          "name": "stdout",
          "output_type": "stream",
          "text": [
            "F1 Score:   0.8391933721179041\n",
            "Accuracy:   0.9337771874999999\n"
          ]
        }
      ],
      "source": [
        "#Local validation performence results.\n",
        "print(\"F1 Score:  \", f1)\n",
        "print(\"Accuracy:  \", acc)"
      ]
    },
    {
      "cell_type": "markdown",
      "metadata": {
        "id": "2v7dSKGGYgs0"
      },
      "source": [
        "## Testing and submission"
      ]
    },
    {
      "cell_type": "code",
      "execution_count": 15,
      "metadata": {
        "id": "AwBUiHwWYgs1"
      },
      "outputs": [],
      "source": [
        "# Define transformation using torchvision.transforms.Compose.\n",
        "# For testing images, convert the input to a PyTorch tensor using transforms.ToTensor().\n",
        "test_image_transform = transforms.Compose([\n",
        "    transforms.ToTensor(),\n",
        "])"
      ]
    },
    {
      "cell_type": "code",
      "execution_count": 16,
      "metadata": {
        "id": "9aQw9ngrYgs1"
      },
      "outputs": [],
      "source": [
        "#Create the test set.\n",
        "test_set = ImagesDataset(\n",
        "    img_dir=TEST_IMAGES,\n",
        "    image_transform=test_image_transform,\n",
        ")"
      ]
    },
    {
      "cell_type": "code",
      "execution_count": 17,
      "metadata": {
        "id": "HLhviZ0OYgs1"
      },
      "outputs": [],
      "source": [
        "#Create DataLoader for the test set.\n",
        "test_loader = DataLoader(\n",
        "    dataset=test_set,\n",
        "    num_workers=WORKERS,\n",
        "    pin_memory=pin_memory,\n",
        ")"
      ]
    },
    {
      "cell_type": "code",
      "execution_count": 19,
      "metadata": {
        "id": "6fTcoCrv_Plq"
      },
      "outputs": [
        {
          "name": "stdout",
          "output_type": "stream",
          "text": [
            "Processing prediction_001.png\n",
            "Processing prediction_002.png\n",
            "Processing prediction_003.png\n",
            "Processing prediction_004.png\n",
            "Processing prediction_005.png\n",
            "Processing prediction_006.png\n",
            "Processing prediction_007.png\n",
            "Processing prediction_008.png\n",
            "Processing prediction_009.png\n",
            "Processing prediction_010.png\n",
            "Processing prediction_011.png\n",
            "Processing prediction_012.png\n",
            "Processing prediction_013.png\n",
            "Processing prediction_014.png\n",
            "Processing prediction_015.png\n",
            "Processing prediction_016.png\n",
            "Processing prediction_017.png\n",
            "Processing prediction_018.png\n",
            "Processing prediction_019.png\n",
            "Processing prediction_020.png\n",
            "Processing prediction_021.png\n",
            "Processing prediction_022.png\n",
            "Processing prediction_023.png\n",
            "Processing prediction_024.png\n",
            "Processing prediction_025.png\n",
            "Processing prediction_026.png\n",
            "Processing prediction_027.png\n",
            "Processing prediction_028.png\n",
            "Processing prediction_029.png\n",
            "Processing prediction_030.png\n",
            "Processing prediction_031.png\n",
            "Processing prediction_032.png\n",
            "Processing prediction_033.png\n",
            "Processing prediction_034.png\n",
            "Processing prediction_035.png\n",
            "Processing prediction_036.png\n",
            "Processing prediction_037.png\n",
            "Processing prediction_038.png\n",
            "Processing prediction_039.png\n",
            "Processing prediction_040.png\n",
            "Processing prediction_041.png\n",
            "Processing prediction_042.png\n",
            "Processing prediction_043.png\n",
            "Processing prediction_044.png\n",
            "Processing prediction_045.png\n",
            "Processing prediction_046.png\n",
            "Processing prediction_047.png\n",
            "Processing prediction_048.png\n",
            "Processing prediction_049.png\n",
            "Processing prediction_050.png\n",
            "Prediction completed.\n",
            "accuracy and f1 not computed\n"
          ]
        }
      ],
      "source": [
        "#Predict the test set.\n",
        "_,_,filenames= predict(model,test_loader,device,PREDICTIONS_PATH,FOREGROUND_TRESHOLD)"
      ]
    },
    {
      "cell_type": "code",
      "execution_count": 39,
      "metadata": {
        "id": "iyT-OiXJ_sWT"
      },
      "outputs": [],
      "source": [
        "#Create the submission file.\n",
        "masks_to_submission('submission.csv',*filenames)"
      ]
    },
    {
      "cell_type": "code",
      "execution_count": 40,
      "metadata": {
        "id": "6cJOoTnc_sIC"
      },
      "outputs": [],
      "source": [
        "#Save the model.\n",
        "torch.save(model.state_dict(), 'models/modelAug.pth')"
      ]
    },
    {
      "cell_type": "markdown",
      "metadata": {},
      "source": [
        "## PostProcessing"
      ]
    },
    {
      "cell_type": "code",
      "execution_count": 11,
      "metadata": {
        "id": "PgjC2F1RYgs2"
      },
      "outputs": [],
      "source": [
        "#Do some post processing on the predictions and save them in the improved_predictions folder.\n",
        "process_images('predictions/','improved_predictions/')"
      ]
    },
    {
      "cell_type": "code",
      "execution_count": 12,
      "metadata": {
        "id": "ABW8HOo1Ygs2"
      },
      "outputs": [],
      "source": [
        "#Get the names of improved masks.\n",
        "image_names = [f for f in os.listdir('improved_predictions') if f.endswith(('.png', '.jpg', '.jpeg'))]"
      ]
    },
    {
      "cell_type": "code",
      "execution_count": 13,
      "metadata": {
        "id": "dSiWNwzJYgs2"
      },
      "outputs": [],
      "source": [
        "#Create the path for each mask.\n",
        "filenames= list()\n",
        "for name in image_names:\n",
        "    new_name = os.path.join('improved_predictions', name)\n",
        "    filenames.append(new_name)\n"
      ]
    },
    {
      "cell_type": "code",
      "execution_count": 14,
      "metadata": {
        "id": "0d_BhQjSYgs2"
      },
      "outputs": [],
      "source": [
        "#Create the submission file.\n",
        "masks_to_submission('submission.csv', *filenames)"
      ]
    }
  ],
  "metadata": {
    "accelerator": "GPU",
    "colab": {
      "gpuType": "T4",
      "provenance": []
    },
    "kernelspec": {
      "display_name": "Python 3",
      "name": "python3"
    },
    "language_info": {
      "codemirror_mode": {
        "name": "ipython",
        "version": 3
      },
      "file_extension": ".py",
      "mimetype": "text/x-python",
      "name": "python",
      "nbconvert_exporter": "python",
      "pygments_lexer": "ipython3",
      "version": "3.9.18"
    }
  },
  "nbformat": 4,
  "nbformat_minor": 0
}
