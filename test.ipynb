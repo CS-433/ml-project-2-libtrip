{
 "cells": [
  {
   "cell_type": "code",
   "execution_count": 6,
   "metadata": {},
   "outputs": [],
   "source": [
    "import helper\n",
    "\n",
    "df =helper.import_data('./data/data_for_testing.txt')"
   ]
  },
  {
   "cell_type": "code",
   "execution_count": 7,
   "metadata": {},
   "outputs": [
    {
     "data": {
      "text/plain": [
       "(['\\\\f1\\\\i0',\n",
       "  '\\\\f1\\\\i0',\n",
       "  '\\\\f1\\\\i0',\n",
       "  '\\\\f1\\\\i0',\n",
       "  '\\\\f1\\\\i0',\n",
       "  '\\\\f1\\\\i0',\n",
       "  '\\\\f1\\\\i0',\n",
       "  '\\\\f1\\\\i0',\n",
       "  '\\\\f1\\\\i0',\n",
       "  '\\\\f1\\\\i0',\n",
       "  '\\\\f1\\\\i0',\n",
       "  '\\\\f1\\\\i0',\n",
       "  '\\\\f1\\\\i0',\n",
       "  '\\\\f1\\\\i0',\n",
       "  '\\\\f1\\\\i0',\n",
       "  '\\\\f1\\\\i0',\n",
       "  '\\\\f1\\\\i0',\n",
       "  '\\\\f1\\\\i0',\n",
       "  '\\\\f1\\\\i0',\n",
       "  '\\\\f1\\\\i0',\n",
       "  '\\\\f1\\\\i0',\n",
       "  '\\\\f1\\\\i0',\n",
       "  '\\\\f1\\\\i0',\n",
       "  '\\\\f1\\\\i0',\n",
       "  '\\\\f1\\\\i0',\n",
       "  '\\\\f1\\\\i0'],\n",
       " [\"Hey, everyone! Thanks for coming today. I've been thinking about a new startup idea lately.\",\n",
       "  \"Oh, that sounds exciting! What's the concept?\",\n",
       "  \"Well, it's about an app that connects local artisans with customers looking for unique handmade products.\",\n",
       "  \"That's interesting. How would you ensure the quality of the products?\",\n",
       "  \"We'd implement a rigorous vetting process, ensuring that each artisan meets specific criteria for craftsmanship and authenticity.\",\n",
       "  'I love the idea of supporting local artisans! How would you market this app?',\n",
       "  'We could collaborate with local markets and craft fairs initially to gain traction. Additionally, targeted social media campaigns and influencer partnerships could help spread the word.',\n",
       "  'Have you thought about the revenue model?',\n",
       "  'Initially, the app could take a small commission from each sale. As we grow, premium features for artisans or subscription models could also generate income.',\n",
       "  'What about scalability? How do you plan to expand this beyond one city or region?',\n",
       "  \"That's a challenge. Initially, focusing on one area allows us to perfect the model, but eventually, we could replicate the approach in different cities or partner with existing artisan networks.\",\n",
       "  \"What's the timeline for development and launch?\",\n",
       "  'I envision a six-month development period, collaborating closely with artisans for their feedback. A soft launch within a year and then scaling up as we refine the user experience.',\n",
       "  'What kind of team would you need to execute this?',\n",
       "  \"We'd need a diverse team\\\\'97tech experts for app development, marketing professionals, and individuals experienced in working with artisans and small businesses.\",\n",
       "  \"I'm curious about the social impact. How does this benefit the artisans and the community?\",\n",
       "  'By providing a platform for these artisans, we empower them economically and help preserve traditional craftsmanship. Plus, supporting local businesses strengthens the community.',\n",
       "  'Have you considered potential challenges or competition?',\n",
       "  \"Absolutely. Competition is out there, but our focus on genuine artisanal products and fostering a sense of community sets us apart. We'd need to continuously innovate to stay ahead.\",\n",
       "  \"This sounds promising. What's the next step?\",\n",
       "  \"I'd love to gather a small team to work on a detailed business plan and conduct market research. If we're all in, we can start with a feasibility study.\",\n",
       "  \"Count me in! I'm excited about this venture.\",\n",
       "  \"I'm intrigued too. Let's explore this further.\",\n",
       "  \"I'm on board! It aligns with my passion for supporting local businesses.\",\n",
       "  \"Sounds promising. I'm interested to delve deeper into the market analysis.\",\n",
       "  \"I'm excited about the social impact. Count me in as well!\"],\n",
       " {'\\\\f1\\\\i0': [\"Hey, everyone! Thanks for coming today. I've been thinking about a new startup idea lately.\",\n",
       "   \"Oh, that sounds exciting! What's the concept?\",\n",
       "   \"Well, it's about an app that connects local artisans with customers looking for unique handmade products.\",\n",
       "   \"That's interesting. How would you ensure the quality of the products?\",\n",
       "   \"We'd implement a rigorous vetting process, ensuring that each artisan meets specific criteria for craftsmanship and authenticity.\",\n",
       "   'I love the idea of supporting local artisans! How would you market this app?',\n",
       "   'We could collaborate with local markets and craft fairs initially to gain traction. Additionally, targeted social media campaigns and influencer partnerships could help spread the word.',\n",
       "   'Have you thought about the revenue model?',\n",
       "   'Initially, the app could take a small commission from each sale. As we grow, premium features for artisans or subscription models could also generate income.',\n",
       "   'What about scalability? How do you plan to expand this beyond one city or region?',\n",
       "   \"That's a challenge. Initially, focusing on one area allows us to perfect the model, but eventually, we could replicate the approach in different cities or partner with existing artisan networks.\",\n",
       "   \"What's the timeline for development and launch?\",\n",
       "   'I envision a six-month development period, collaborating closely with artisans for their feedback. A soft launch within a year and then scaling up as we refine the user experience.',\n",
       "   'What kind of team would you need to execute this?',\n",
       "   \"We'd need a diverse team\\\\'97tech experts for app development, marketing professionals, and individuals experienced in working with artisans and small businesses.\",\n",
       "   \"I'm curious about the social impact. How does this benefit the artisans and the community?\",\n",
       "   'By providing a platform for these artisans, we empower them economically and help preserve traditional craftsmanship. Plus, supporting local businesses strengthens the community.',\n",
       "   'Have you considered potential challenges or competition?',\n",
       "   \"Absolutely. Competition is out there, but our focus on genuine artisanal products and fostering a sense of community sets us apart. We'd need to continuously innovate to stay ahead.\",\n",
       "   \"This sounds promising. What's the next step?\",\n",
       "   \"I'd love to gather a small team to work on a detailed business plan and conduct market research. If we're all in, we can start with a feasibility study.\",\n",
       "   \"Count me in! I'm excited about this venture.\",\n",
       "   \"I'm intrigued too. Let's explore this further.\",\n",
       "   \"I'm on board! It aligns with my passion for supporting local businesses.\",\n",
       "   \"Sounds promising. I'm interested to delve deeper into the market analysis.\",\n",
       "   \"I'm excited about the social impact. Count me in as well!\"]})"
      ]
     },
     "execution_count": 7,
     "metadata": {},
     "output_type": "execute_result"
    }
   ],
   "source": [
    "df"
   ]
  },
  {
   "cell_type": "code",
   "execution_count": 4,
   "metadata": {},
   "outputs": [
    {
     "data": {
      "text/plain": [
       "[\"Hey, everyone! Thanks for coming today. I've been thinking about a new startup idea lately.\",\n",
       " \"Oh, that sounds exciting! What's the concept?\",\n",
       " \"Well, it's about an app that connects local artisans with customers looking for unique handmade products.\",\n",
       " \"That's interesting. How would you ensure the quality of the products?\",\n",
       " \"We'd implement a rigorous vetting process, ensuring that each artisan meets specific criteria for craftsmanship and authenticity.\",\n",
       " 'I love the idea of supporting local artisans! How would you market this app?',\n",
       " 'We could collaborate with local markets and craft fairs initially to gain traction. Additionally, targeted social media campaigns and influencer partnerships could help spread the word.',\n",
       " 'Have you thought about the revenue model?',\n",
       " 'Initially, the app could take a small commission from each sale. As we grow, premium features for artisans or subscription models could also generate income.',\n",
       " 'What about scalability? How do you plan to expand this beyond one city or region?',\n",
       " \"That's a challenge. Initially, focusing on one area allows us to perfect the model, but eventually, we could replicate the approach in different cities or partner with existing artisan networks.\",\n",
       " \"What's the timeline for development and launch?\",\n",
       " 'I envision a six-month development period, collaborating closely with artisans for their feedback. A soft launch within a year and then scaling up as we refine the user experience.',\n",
       " 'What kind of team would you need to execute this?',\n",
       " \"We'd need a diverse team\\\\'97tech experts for app development, marketing professionals, and individuals experienced in working with artisans and small businesses.\",\n",
       " \"I'm curious about the social impact. How does this benefit the artisans and the community?\",\n",
       " 'By providing a platform for these artisans, we empower them economically and help preserve traditional craftsmanship. Plus, supporting local businesses strengthens the community.',\n",
       " 'Have you considered potential challenges or competition?',\n",
       " \"Absolutely. Competition is out there, but our focus on genuine artisanal products and fostering a sense of community sets us apart. We'd need to continuously innovate to stay ahead.\",\n",
       " \"This sounds promising. What's the next step?\",\n",
       " \"I'd love to gather a small team to work on a detailed business plan and conduct market research. If we're all in, we can start with a feasibility study.\",\n",
       " \"Count me in! I'm excited about this venture.\",\n",
       " \"I'm intrigued too. Let's explore this further.\",\n",
       " \"I'm on board! It aligns with my passion for supporting local businesses.\",\n",
       " \"Sounds promising. I'm interested to delve deeper into the market analysis.\",\n",
       " \"I'm excited about the social impact. Count me in as well!\"]"
      ]
     },
     "execution_count": 4,
     "metadata": {},
     "output_type": "execute_result"
    }
   ],
   "source": [
    "\n"
   ]
  }
 ],
 "metadata": {
  "kernelspec": {
   "display_name": "Python 3",
   "language": "python",
   "name": "python3"
  },
  "language_info": {
   "codemirror_mode": {
    "name": "ipython",
    "version": 3
   },
   "file_extension": ".py",
   "mimetype": "text/x-python",
   "name": "python",
   "nbconvert_exporter": "python",
   "pygments_lexer": "ipython3",
   "version": "3.11.4"
  }
 },
 "nbformat": 4,
 "nbformat_minor": 2
}
