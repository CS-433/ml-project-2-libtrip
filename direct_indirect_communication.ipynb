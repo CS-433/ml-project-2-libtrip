{
 "cells": [
  {
   "cell_type": "markdown",
   "metadata": {},
   "source": [
    "# Approach 1"
   ]
  },
  {
   "cell_type": "markdown",
   "metadata": {},
   "source": [
    "## Features creation for classification"
   ]
  },
  {
   "cell_type": "markdown",
   "metadata": {},
   "source": [
    "The first feature that we would like to create is the use of personnal pronoun \n",
    "We have to choose either :\n",
    "- we will count the total number of personal pronoun use  over the total number of words of 1 speaker \n",
    "- we will count the total number of personal pronoun use over the total number of words of the transcript of 1 video"
   ]
  },
  {
   "cell_type": "markdown",
   "metadata": {},
   "source": []
  }
 ],
 "metadata": {
  "language_info": {
   "name": "python"
  }
 },
 "nbformat": 4,
 "nbformat_minor": 2
}
