{
 "cells": [
  {
   "cell_type": "markdown",
   "metadata": {},
   "source": [
    "# Approach 1"
   ]
  },
  {
   "cell_type": "markdown",
   "metadata": {},
   "source": [
    "## Features creation for classification"
   ]
  },
  {
   "cell_type": "markdown",
   "metadata": {},
   "source": [
    "The first feature that we would like to create is the use of personnal pronoun \n",
    "We have to choose either :\n",
    "- we will count the total number of personal pronoun use  over the total number of words of 1 speaker \n",
    "- we will count the total number of personal pronoun use over the total number of words of the transcript of 1 video"
   ]
  },
  {
   "cell_type": "code",
   "execution_count": 1,
   "metadata": {},
   "outputs": [
    {
     "ename": "ModuleNotFoundError",
     "evalue": "No module named 'spacy'",
     "output_type": "error",
     "traceback": [
      "\u001b[0;31m---------------------------------------------------------------------------\u001b[0m",
      "\u001b[0;31mModuleNotFoundError\u001b[0m                       Traceback (most recent call last)",
      "\u001b[1;32m/Users/bina/Documents/MA1/ml-project-2-libtrip/direct_indirect_communication.ipynb Cell 4\u001b[0m line \u001b[0;36m2\n\u001b[1;32m      <a href='vscode-notebook-cell:/Users/bina/Documents/MA1/ml-project-2-libtrip/direct_indirect_communication.ipynb#X16sZmlsZQ%3D%3D?line=0'>1</a>\u001b[0m \u001b[39mimport\u001b[39;00m \u001b[39mpandas\u001b[39;00m \u001b[39mas\u001b[39;00m \u001b[39mpd\u001b[39;00m\n\u001b[0;32m----> <a href='vscode-notebook-cell:/Users/bina/Documents/MA1/ml-project-2-libtrip/direct_indirect_communication.ipynb#X16sZmlsZQ%3D%3D?line=1'>2</a>\u001b[0m \u001b[39mimport\u001b[39;00m \u001b[39mspacy\u001b[39;00m\n\u001b[1;32m      <a href='vscode-notebook-cell:/Users/bina/Documents/MA1/ml-project-2-libtrip/direct_indirect_communication.ipynb#X16sZmlsZQ%3D%3D?line=2'>3</a>\u001b[0m \u001b[39mfrom\u001b[39;00m \u001b[39mcollections\u001b[39;00m \u001b[39mimport\u001b[39;00m Counter\n",
      "\u001b[0;31mModuleNotFoundError\u001b[0m: No module named 'spacy'"
     ]
    }
   ],
   "source": [
    "import pandas as pd\n",
    "import spacy\n",
    "from collections import Counter\n"
   ]
  },
  {
   "cell_type": "markdown",
   "metadata": {},
   "source": []
  },
  {
   "cell_type": "code",
   "execution_count": null,
   "metadata": {},
   "outputs": [
    {
     "data": {
      "text/html": [
       "<div>\n",
       "<style scoped>\n",
       "    .dataframe tbody tr th:only-of-type {\n",
       "        vertical-align: middle;\n",
       "    }\n",
       "\n",
       "    .dataframe tbody tr th {\n",
       "        vertical-align: top;\n",
       "    }\n",
       "\n",
       "    .dataframe thead th {\n",
       "        text-align: right;\n",
       "    }\n",
       "</style>\n",
       "<table border=\"1\" class=\"dataframe\">\n",
       "  <thead>\n",
       "    <tr style=\"text-align: right;\">\n",
       "      <th></th>\n",
       "      <th>Speaker</th>\n",
       "      <th>Dialogue</th>\n",
       "    </tr>\n",
       "  </thead>\n",
       "  <tbody>\n",
       "    <tr>\n",
       "      <th>0</th>\n",
       "      <td>Sprecher 1</td>\n",
       "      <td>Guten Tag zusammen! Ich freue mich, dass wir u...</td>\n",
       "    </tr>\n",
       "    <tr>\n",
       "      <th>1</th>\n",
       "      <td>Sprecher 2</td>\n",
       "      <td>Hallo! Ich denke, wir sollten uns zun'e4chst a...</td>\n",
       "    </tr>\n",
       "    <tr>\n",
       "      <th>2</th>\n",
       "      <td>Sprecher 3</td>\n",
       "      <td>Genau, das sind gute Ans'e4tze. Aber sollten w...</td>\n",
       "    </tr>\n",
       "    <tr>\n",
       "      <th>3</th>\n",
       "      <td>Sprecher 4</td>\n",
       "      <td>Ja, das sind interessante 'dcberlegungen. Doch...</td>\n",
       "    </tr>\n",
       "    <tr>\n",
       "      <th>4</th>\n",
       "      <td>Sprecher 5</td>\n",
       "      <td>Ich stimme zu, dass die Rentabilit'e4t unserer...</td>\n",
       "    </tr>\n",
       "    <tr>\n",
       "      <th>5</th>\n",
       "      <td>Sprecher 6</td>\n",
       "      <td>Richtig! Wir sollten uns darauf konzentrieren,...</td>\n",
       "    </tr>\n",
       "    <tr>\n",
       "      <th>6</th>\n",
       "      <td>Sprecher 1</td>\n",
       "      <td>Diese Ans'e4tze sind sehr vielf'e4ltig und spa...</td>\n",
       "    </tr>\n",
       "    <tr>\n",
       "      <th>7</th>\n",
       "      <td>Sprecher 2</td>\n",
       "      <td>Vielleicht k'f6nnten wir eine Ideenwerkstatt o...</td>\n",
       "    </tr>\n",
       "    <tr>\n",
       "      <th>8</th>\n",
       "      <td>Sprecher 3</td>\n",
       "      <td>Eine gro'dfartige Idee! Solch ein Workshop k'f...</td>\n",
       "    </tr>\n",
       "    <tr>\n",
       "      <th>9</th>\n",
       "      <td>Sprecher 4</td>\n",
       "      <td>Ich schlage vor, dass wir uns regelm'e4'dfig t...</td>\n",
       "    </tr>\n",
       "    <tr>\n",
       "      <th>10</th>\n",
       "      <td>Sprecher 5</td>\n",
       "      <td>Absolut! Die regelm'e4'dfige Zusammenarbeit un...</td>\n",
       "    </tr>\n",
       "    <tr>\n",
       "      <th>11</th>\n",
       "      <td>Sprecher 6</td>\n",
       "      <td>Vielen Dank f'fcr eure wertvollen Beitr'e4ge! ...</td>\n",
       "    </tr>\n",
       "  </tbody>\n",
       "</table>\n",
       "</div>"
      ],
      "text/plain": [
       "       Speaker                                           Dialogue\n",
       "0   Sprecher 1  Guten Tag zusammen! Ich freue mich, dass wir u...\n",
       "1   Sprecher 2  Hallo! Ich denke, wir sollten uns zun'e4chst a...\n",
       "2   Sprecher 3  Genau, das sind gute Ans'e4tze. Aber sollten w...\n",
       "3   Sprecher 4  Ja, das sind interessante 'dcberlegungen. Doch...\n",
       "4   Sprecher 5  Ich stimme zu, dass die Rentabilit'e4t unserer...\n",
       "5   Sprecher 6  Richtig! Wir sollten uns darauf konzentrieren,...\n",
       "6   Sprecher 1  Diese Ans'e4tze sind sehr vielf'e4ltig und spa...\n",
       "7   Sprecher 2  Vielleicht k'f6nnten wir eine Ideenwerkstatt o...\n",
       "8   Sprecher 3  Eine gro'dfartige Idee! Solch ein Workshop k'f...\n",
       "9   Sprecher 4  Ich schlage vor, dass wir uns regelm'e4'dfig t...\n",
       "10  Sprecher 5  Absolut! Die regelm'e4'dfige Zusammenarbeit un...\n",
       "11  Sprecher 6  Vielen Dank f'fcr eure wertvollen Beitr'e4ge! ..."
      ]
     },
     "execution_count": 1,
     "metadata": {},
     "output_type": "execute_result"
    }
   ],
   "source": [
    "import pandas as pd\n",
    "\n",
    "\n",
    "# Provided text\n",
    "text = '''\\ \n",
    "Sprecher 1: Guten Tag zusammen! Ich freue mich, dass wir uns hier treffen, um \\'fcber die Ideenfindung f\\'fcr unser neues Startup zu sprechen. Wie k\\'f6nnen wir am besten starten?\n",
    "Sprecher 2: Hallo! Ich denke, wir sollten uns zun\\'e4chst auf Branchen oder Problembereiche konzentrieren, in denen wir Potenzial sehen. Vielleicht k\\'f6nnten wir in Zukunftstechnologien oder Nachhaltigkeitsl\\'f6sungen investieren?\n",
    "Sprecher 3: Genau, das sind gute Ans\\'e4tze. Aber sollten wir nicht auch eine Zielgruppe oder ein konkretes Problem identifizieren, dem wir uns widmen m\\'f6chten? Vielleicht k\\'f6nnten wir uns auf Bildung oder soziale Innovationen fokussieren?\n",
    "Sprecher 4: Ja, das sind interessante \\'dcberlegungen. Doch wir sollten auch die finanzielle Seite im Blick behalten. Haben wir bereits Gedanken dar\\'fcber gemacht, wie unser Gesch\\'e4ftsmodell aussehen k\\'f6nnte?\n",
    "Sprecher 5: Ich stimme zu, dass die Rentabilit\\'e4t unserer Idee wichtig ist. Vielleicht k\\'f6nnten wir eine Nische finden oder ein innovatives Produkt entwickeln, das eine Marktl\\'fccke schlie\\'dft.\n",
    "Sprecher 6: Richtig! Wir sollten uns darauf konzentrieren, etwas Einzigartiges zu schaffen. Idealerweise etwas, das es so noch nicht gibt und das einen echten Mehrwert bietet.\n",
    "Sprecher 1: Diese Ans\\'e4tze sind sehr vielf\\'e4ltig und spannend! Vielleicht k\\'f6nnten wir verschiedene Ideen kombinieren, um eine innovative und bedeutsame L\\'f6sung zu entwickeln. Hat jemand noch weitere Gedanken dazu?\n",
    "Sprecher 2: Vielleicht k\\'f6nnten wir eine Ideenwerkstatt organisieren, in der wir kreativ brainstormen und unsere Ideen zusammentragen. Dadurch k\\'f6nnten wir verschiedene Ans\\'e4tze miteinander verkn\\'fcpfen.\n",
    "Sprecher 3: Eine gro\\'dfartige Idee! Solch ein Workshop k\\'f6nnte uns helfen, unsere Gedanken zu strukturieren und einen klaren Fahrplan f\\'fcr die Umsetzung zu erstellen.\n",
    "Sprecher 4: Ich schlage vor, dass wir uns regelm\\'e4\\'dfig treffen, um unsere Fortschritte zu \\'fcberpr\\'fcfen und unsere Ideen weiterzuentwickeln. Ein strukturierter Zeitplan w\\'e4re hilfreich.\n",
    "Sprecher 5: Absolut! Die regelm\\'e4\\'dfige Zusammenarbeit und der konstante Austausch sind von gro\\'dfer Bedeutung f\\'fcr die erfolgreiche Entwicklung unseres Startups.\n",
    "Sprecher 6: Vielen Dank f\\'fcr eure wertvollen Beitr\\'e4ge! Lasst uns unsere Ideen zusammentragen und beim n\\'e4chsten Treffen weiter vertiefen.\n",
    "'''\n",
    "\n",
    "# Split the text by newlines and create lists for speakers and dialogues\n",
    "lines = text.split('\\n')\n",
    "\n",
    "speakers = []\n",
    "dialogues = []\n",
    "\n",
    "for line in lines:\n",
    "    parts = line.split(': ')\n",
    "    if len(parts) >= 2:\n",
    "        speaker = parts[0].strip()\n",
    "        dialogue = ': '.join(parts[1:]).strip()\n",
    "\n",
    "        speakers.append(speaker)\n",
    "        dialogues.append(dialogue)\n",
    "\n",
    "# Create a DataFrame\n",
    "data = {'Speaker': speakers, 'Dialogue': dialogues}\n",
    "df = pd.DataFrame(data)\n",
    "\n",
    "# Display the DataFrame\n",
    "df\n"
   ]
  },
  {
   "cell_type": "markdown",
   "metadata": {},
   "source": [
    "https://books.google.com/ngrams/graph?content=I&year_start=1800&year_end=2019&corpus=en-2019&smoothing=3\n",
    "\n",
    "https://www.researchgate.net/publication280771001_Individualism_and_First_Person_Pronoun_Use_in_Written_Texts_Across_Languages\n",
    "\n",
    "The main aim of this paper is to investigate the relationship between individualism and pronoun usage in various languages. The study presents a language analysis based on the Universal Decimal Classification (UDC) scheme.\n",
    "\n",
    "The paper demonstrates that languages can be categorized into individualistic or collectivistic categories, which affects pronoun usage. Individualistic languages use first person singular pronouns more frequently, while collectivistic languages use plural pronouns more frequently. The analysis also highlights the cultural diversity in language use and suggests that the relative use of first person singular pronouns may provide a meaningful cultural variable for cross-cultural comparisons."
   ]
  },
  {
   "cell_type": "markdown",
   "metadata": {},
   "source": [
    "We will thus perform a similar approach to create a feature `Indiv_Pronoun_Frequency` and `Collectiv_Pronoun_Frequency`"
   ]
  },
  {
   "cell_type": "markdown",
   "metadata": {},
   "source": [
    "As our text sample is in german we first need to define the individualistic and collectivistic pronouns in german:\n",
    "https://www.scribbr.com/nouns-and-pronouns/first-person-pronouns/\n",
    "\n",
    "**First Person :** \"ich\", \"mich\", \"mir\"\n",
    "**Plural :** \"wir\", \"uns\"\n",
    "\n",
    "First we will count the frequency of first and second pronoun use over the speaker level.\n",
    "Then we will count the frequency of first and second pronoun use over the whole transcript."
   ]
  },
  {
   "cell_type": "markdown",
   "metadata": {},
   "source": [
    "Let us first perform some data wrangling: we need to tokenize the data !"
   ]
  },
  {
   "cell_type": "code",
   "execution_count": null,
   "metadata": {},
   "outputs": [
    {
     "ename": "NameError",
     "evalue": "name 'spacy' is not defined",
     "output_type": "error",
     "traceback": [
      "\u001b[0;31m---------------------------------------------------------------------------\u001b[0m",
      "\u001b[0;31mNameError\u001b[0m                                 Traceback (most recent call last)",
      "\u001b[1;32m/Users/bina/Documents/MA1/ml-project-2-libtrip/direct_indirect_communication.ipynb Cell 11\u001b[0m line \u001b[0;36m1\n\u001b[0;32m----> <a href='vscode-notebook-cell:/Users/bina/Documents/MA1/ml-project-2-libtrip/direct_indirect_communication.ipynb#W5sZmlsZQ%3D%3D?line=0'>1</a>\u001b[0m nlp \u001b[39m=\u001b[39m spacy\u001b[39m.\u001b[39mload(\u001b[39m'\u001b[39m\u001b[39mde_core_news_sm\u001b[39m\u001b[39m'\u001b[39m)\n",
      "\u001b[0;31mNameError\u001b[0m: name 'spacy' is not defined"
     ]
    }
   ],
   "source": [
    "nlp = spacy.load('de_core_news_sm')"
   ]
  }
 ],
 "metadata": {
  "kernelspec": {
   "display_name": "Python 3",
   "language": "python",
   "name": "python3"
  },
  "language_info": {
   "codemirror_mode": {
    "name": "ipython",
    "version": 3
   },
   "file_extension": ".py",
   "mimetype": "text/x-python",
   "name": "python",
   "nbconvert_exporter": "python",
   "pygments_lexer": "ipython3",
   "version": "3.11.4"
  }
 },
 "nbformat": 4,
 "nbformat_minor": 2
}
