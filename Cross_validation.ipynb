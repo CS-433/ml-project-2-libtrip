{
  "cells": [
    {
      "cell_type": "markdown",
      "metadata": {},
      "source": [
        "#### The goal of this notebook is to find the optimal split ratio for training and validation"
      ]
    },
    {
      "cell_type": "code",
      "execution_count": 1,
      "metadata": {
        "id": "yIZpoHenYgsr"
      },
      "outputs": [],
      "source": [
        "import torch\n",
        "from torch.optim import Adam\n",
        "from torch.optim.lr_scheduler import ReduceLROnPlateau\n",
        "from torch.utils.data import DataLoader\n",
        "from torchvision import transforms\n",
        "from ImageDataset import *\n",
        "from unet import *\n",
        "from loss import *\n",
        "import matplotlib.pyplot as plt\n",
        "import os\n",
        "import zipfile\n",
        "from helper import *"
      ]
    },
    {
      "cell_type": "code",
      "execution_count": 2,
      "metadata": {
        "id": "wP958XM1Ygsu"
      },
      "outputs": [],
      "source": [
        "#Unzip data.\n",
        "#It is useful when we want to run the code on Google Colab.\n",
        "data_path = 'data.zip'\n",
        "\n",
        "with zipfile.ZipFile(data_path, 'r') as zip_ref:\n",
        "    zip_ref.extractall()\n"
      ]
    },
    {
      "cell_type": "code",
      "execution_count": 2,
      "metadata": {
        "id": "fhtnY0dFYgsv"
      },
      "outputs": [],
      "source": [
        "TRAIN_IMAGES = 'data/training/images/'\n",
        "GROUNDTRUTH = 'data/training/groundtruth/'\n",
        "PREDICTIONS_PATH= 'predictions/'\n",
        "FOREGROUND_TRESHOLD = 0.25\n",
        "BATCH_SIZE = 10\n",
        "EPOCHS = 100\n",
        "LR = 1e-3\n",
        "SEED = 4\n",
        "WEIGHT_DECAY = 1e-3\n",
        "WORKERS = 2"
      ]
    },
    {
      "cell_type": "code",
      "execution_count": 3,
      "metadata": {
        "colab": {
          "base_uri": "https://localhost:8080/"
        },
        "id": "AyeljAr0Ygsv",
        "outputId": "7d73091c-b0dd-48d7-d2c3-3d8477eb8480"
      },
      "outputs": [
        {
          "name": "stdout",
          "output_type": "stream",
          "text": [
            "Device: cpu\n"
          ]
        }
      ],
      "source": [
        "# Define device\n",
        "device = torch.device('cuda' if torch.cuda.is_available() else 'cpu')\n",
        "print('Device:', device)\n",
        "pin_memory = device == 'cuda'"
      ]
    },
    {
      "cell_type": "code",
      "execution_count": 5,
      "metadata": {
        "id": "ZnzhBdH0Ygsw"
      },
      "outputs": [],
      "source": [
        "# Define image and mask transformations using torchvision.transforms.Compose.\n",
        "# For both image and mask, convert the input to a PyTorch tensor using transforms.ToTensor().\n",
        "image_transform = transforms.Compose([\n",
        "    transforms.ToTensor(),\n",
        "])\n",
        "mask_transform = transforms.Compose([\n",
        "    transforms.ToTensor(),\n",
        "])"
      ]
    },
    {
      "cell_type": "code",
      "execution_count": 6,
      "metadata": {
        "id": "LvNYMCa9Ygsw"
      },
      "outputs": [],
      "source": [
        "# Create an instance of the ImagesDataset class with specified parameters.\n",
        "dataset = ImagesDataset(\n",
        "    img_dir=TRAIN_IMAGES,\n",
        "    gt_dir=GROUNDTRUTH,\n",
        "    image_transform=image_transform,\n",
        "    mask_transform=mask_transform,\n",
        ")"
      ]
    },
    {
      "cell_type": "code",
      "execution_count": 7,
      "metadata": {
        "colab": {
          "base_uri": "https://localhost:8080/"
        },
        "id": "LuiAP3mLYgsw",
        "outputId": "3c29c320-1962-4dfa-d2c5-da1e4943878e"
      },
      "outputs": [
        {
          "data": {
            "text/plain": [
              "100"
            ]
          },
          "execution_count": 7,
          "metadata": {},
          "output_type": "execute_result"
        }
      ],
      "source": [
        "# Display the number of images in the dataset.\n",
        "len(dataset)"
      ]
    },
    {
      "cell_type": "code",
      "execution_count": 9,
      "metadata": {
        "colab": {
          "base_uri": "https://localhost:8080/"
        },
        "id": "uDId2OkRYgsx",
        "outputId": "92eabbdb-ad5c-4739-dfc5-6b32b48dab3c"
      },
      "outputs": [
        {
          "name": "stdout",
          "output_type": "stream",
          "text": [
            "Image size: torch.Size([3, 400, 400])\n",
            "Mask size: torch.Size([1, 400, 400])\n"
          ]
        }
      ],
      "source": [
        "image, mask = dataset[0]\n",
        "print('Image size:', image.shape)\n",
        "print('Mask size:', mask.shape)"
      ]
    },
    {
      "cell_type": "code",
      "execution_count": 10,
      "metadata": {
        "id": "gMnb6kLmYgsx"
      },
      "outputs": [],
      "source": [
        "#Create datasets according to the split ratios\n",
        "ratios= [0.1, 0.15, 0.2, 0.25, 0.3, 0.35]\n",
        "datasets = [split_data(dataset, ratio, SEED) for ratio in ratios]"
      ]
    },
    {
      "cell_type": "code",
      "execution_count": 12,
      "metadata": {
        "id": "aNGoYAuTYgsy"
      },
      "outputs": [],
      "source": [
        "#Create train loaders\n",
        "train_loaders= [DataLoader(train_dataset, batch_size=BATCH_SIZE, shuffle=True, num_workers=WORKERS, pin_memory=pin_memory) for train_dataset, test_dataset in datasets]"
      ]
    },
    {
      "cell_type": "code",
      "execution_count": 13,
      "metadata": {
        "id": "HBhtZegWYgsy"
      },
      "outputs": [],
      "source": [
        "#Create test loaders for local evaluation\n",
        "local_test_loaders= [DataLoader(test_dataset, num_workers=WORKERS, pin_memory=pin_memory) for train_dataset, test_dataset in datasets]"
      ]
    },
    {
      "cell_type": "code",
      "execution_count": 14,
      "metadata": {
        "colab": {
          "base_uri": "https://localhost:8080/"
        },
        "id": "sKSMCac3Ygsy",
        "outputId": "c5ab2f90-40f9-4451-cf0b-9f0f31923b58"
      },
      "outputs": [
        {
          "data": {
            "text/plain": [
              "10"
            ]
          },
          "execution_count": 14,
          "metadata": {},
          "output_type": "execute_result"
        }
      ],
      "source": [
        "#Display the length of the first testset (local)\n",
        "len(local_test_loaders[0].dataset)"
      ]
    },
    {
      "cell_type": "code",
      "execution_count": 15,
      "metadata": {
        "colab": {
          "base_uri": "https://localhost:8080/"
        },
        "id": "wjvUj0RkYgsy",
        "outputId": "6c0e7b1d-7022-4078-879f-48064c3c1683"
      },
      "outputs": [
        {
          "data": {
            "text/plain": [
              "90"
            ]
          },
          "execution_count": 15,
          "metadata": {},
          "output_type": "execute_result"
        }
      ],
      "source": [
        "#Display the length of the first trainset\n",
        "len(train_loaders[0].dataset)"
      ]
    },
    {
      "cell_type": "code",
      "execution_count": 16,
      "metadata": {
        "id": "gybebDuuYgsz"
      },
      "outputs": [],
      "source": [
        "#Create models\n",
        "models= [UNet().to(device) for i in range(len(datasets))]"
      ]
    },
    {
      "cell_type": "code",
      "execution_count": 17,
      "metadata": {
        "id": "of_gTg7vYgsz"
      },
      "outputs": [],
      "source": [
        "#Create loss functions and optimizers\n",
        "criterion = DiceLoss()\n",
        "optimizers = [Adam(models[i].parameters(), lr=LR, weight_decay=WEIGHT_DECAY) for i in range(len(datasets))]"
      ]
    },
    {
      "cell_type": "code",
      "execution_count": null,
      "metadata": {
        "id": "447KlwX8Ygsz"
      },
      "outputs": [],
      "source": [
        "#Create learing rate schedulers\n",
        "lr_schds= [ReduceLROnPlateau(optimizers[i], mode='min', patience=3, verbose=True) for i in range(len(datasets))]"
      ]
    },
    {
      "cell_type": "code",
      "execution_count": null,
      "metadata": {
        "id": "R8AOiD_cYgs0"
      },
      "outputs": [],
      "source": [
        "#Cross validation\n",
        "\n",
        "models_loss= list()\n",
        "modeles_metrics= list()\n",
        "for i in range(len(datasets)):\n",
        "    print(f\"Training model {i}\")\n",
        "    losses = train(models[i], train_loaders[i], criterion, optimizers[i], device,EPOCHS, lr_schds[i])\n",
        "    models_loss.append(losses)\n",
        "    print(f\"Predicting model {i}\")\n",
        "    metric= predict(models[i], local_test_loaders[i], device,PREDICTIONS_PATH, FOREGROUND_TRESHOLD)\n",
        "    modeles_metrics.append(metric)"
      ]
    },
    {
      "cell_type": "code",
      "execution_count": 31,
      "metadata": {
        "colab": {
          "base_uri": "https://localhost:8080/",
          "height": 472
        },
        "id": "to5hDGDZoXuW",
        "outputId": "71414225-139c-4012-e10d-b7dbc8a819f7"
      },
      "outputs": [
        {
          "data": {
            "image/png": "[encoded data removed]",
            "text/plain": [
              "<Figure size 640x480 with 1 Axes>"
            ]
          },
          "metadata": {},
          "output_type": "display_data"
        }
      ],
      "source": [
        "#Plot the F1-Score curves for different split ratios\n",
        "\n",
        "f1_scores = [item[0] for item in modeles_metrics]\n",
        "#accuracies = [item[1] for item in modeles_metrics]\n",
        "m=['90:10', '85:15', '80:20', '75:25', '70:30', '65:35']\n",
        "\n",
        "plt.plot(m, f1_scores, color='red', linestyle='-', marker= 'o')\n",
        "plt.title('F1 Score vs Split Ratio')\n",
        "plt.xlabel('Split Ratio')\n",
        "plt.ylabel('F1 Score')\n",
        "plt.show()"
      ]
    },
    {
      "cell_type": "code",
      "execution_count": 40,
      "metadata": {
        "colab": {
          "base_uri": "https://localhost:8080/",
          "height": 472
        },
        "id": "ucDQ3QQBpBWF",
        "outputId": "5be0527b-48f4-45db-c396-14d086394db5"
      },
      "outputs": [
        {
          "data": {
            "image/png": "[encoded data removed]",
            "text/plain": [
              "<Figure size 640x480 with 1 Axes>"
            ]
          },
          "metadata": {},
          "output_type": "display_data"
        }
      ],
      "source": [
        "#Plot the loss curves for different epochs\n",
        "\n",
        "chosen_model= models_loss[2]\n",
        "epochs = [item[0] for item in chosen_model]\n",
        "losses = [item[1] for item in chosen_model]\n",
        "\n",
        "# Plotting\n",
        "plt.plot(epochs, losses, color='red', marker='o', linestyle='-')\n",
        "plt.title('Epoch vs Loss')\n",
        "plt.xlabel('Epoch')\n",
        "plt.ylabel('DiceLoss')\n",
        "plt.grid(True)\n",
        "plt.show()\n"
      ]
    }
  ],
  "metadata": {
    "accelerator": "GPU",
    "colab": {
      "gpuType": "T4",
      "provenance": []
    },
    "kernelspec": {
      "display_name": "Python 3",
      "name": "python3"
    },
    "language_info": {
      "codemirror_mode": {
        "name": "ipython",
        "version": 3
      },
      "file_extension": ".py",
      "mimetype": "text/x-python",
      "name": "python",
      "nbconvert_exporter": "python",
      "pygments_lexer": "ipython3",
      "version": "3.9.18"
    }
  },
  "nbformat": 4,
  "nbformat_minor": 0
}
